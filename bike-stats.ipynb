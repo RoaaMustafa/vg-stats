{
 "cells": [
  {
   "cell_type": "markdown",
   "source": [
    "# Data Analysis with Pandas\n",
    "\n",
    "## bike-stats\n",
    "\n",
    "## Auther : Roaa Mustafa\n",
    "\n",
    "## Date : 9 Aug 2021\n"
   ],
   "metadata": {}
  },
  {
   "cell_type": "code",
   "execution_count": 4,
   "source": [
    "import pandas as pd"
   ],
   "outputs": [],
   "metadata": {}
  },
  {
   "cell_type": "code",
   "execution_count": 27,
   "source": [
    "df_weather=pd.read_csv('./weather.csv')\n",
    "df_station=pd.read_csv('./station.csv')"
   ],
   "outputs": [],
   "metadata": {}
  },
  {
   "cell_type": "code",
   "execution_count": 5,
   "source": [
    "df = pd.read_csv('./trip.csv',error_bad_lines=False)\n",
    "df.head()"
   ],
   "outputs": [
    {
     "output_type": "stream",
     "name": "stderr",
     "text": [
      "/home/roaa/401/vg-stats/.venv/lib/python3.9/site-packages/IPython/core/interactiveshell.py:3441: FutureWarning: The error_bad_lines argument has been deprecated and will be removed in a future version.\n",
      "\n",
      "\n",
      "  exec(code_obj, self.user_global_ns, self.user_ns)\n",
      "b'Skipping line 50794: expected 12 fields, saw 20\\n'\n"
     ]
    },
    {
     "output_type": "execute_result",
     "data": {
      "text/plain": [
       "   trip_id         starttime          stoptime    bikeid  tripduration  \\\n",
       "0      431  10/13/2014 10:31  10/13/2014 10:48  SEA00298       985.935   \n",
       "1      432  10/13/2014 10:32  10/13/2014 10:48  SEA00195       926.375   \n",
       "2      433  10/13/2014 10:33  10/13/2014 10:48  SEA00486       883.831   \n",
       "3      434  10/13/2014 10:34  10/13/2014 10:48  SEA00333       865.937   \n",
       "4      435  10/13/2014 10:34  10/13/2014 10:49  SEA00202       923.923   \n",
       "\n",
       "     from_station_name                                    to_station_name  \\\n",
       "0  2nd Ave & Spring St  Occidental Park / Occidental Ave S & S Washing...   \n",
       "1  2nd Ave & Spring St  Occidental Park / Occidental Ave S & S Washing...   \n",
       "2  2nd Ave & Spring St  Occidental Park / Occidental Ave S & S Washing...   \n",
       "3  2nd Ave & Spring St  Occidental Park / Occidental Ave S & S Washing...   \n",
       "4  2nd Ave & Spring St  Occidental Park / Occidental Ave S & S Washing...   \n",
       "\n",
       "  from_station_id to_station_id usertype  gender  birthyear  \n",
       "0          CBD-06         PS-04   Member    Male     1960.0  \n",
       "1          CBD-06         PS-04   Member    Male     1970.0  \n",
       "2          CBD-06         PS-04   Member  Female     1988.0  \n",
       "3          CBD-06         PS-04   Member  Female     1977.0  \n",
       "4          CBD-06         PS-04   Member    Male     1971.0  "
      ],
      "text/html": [
       "<div>\n",
       "<style scoped>\n",
       "    .dataframe tbody tr th:only-of-type {\n",
       "        vertical-align: middle;\n",
       "    }\n",
       "\n",
       "    .dataframe tbody tr th {\n",
       "        vertical-align: top;\n",
       "    }\n",
       "\n",
       "    .dataframe thead th {\n",
       "        text-align: right;\n",
       "    }\n",
       "</style>\n",
       "<table border=\"1\" class=\"dataframe\">\n",
       "  <thead>\n",
       "    <tr style=\"text-align: right;\">\n",
       "      <th></th>\n",
       "      <th>trip_id</th>\n",
       "      <th>starttime</th>\n",
       "      <th>stoptime</th>\n",
       "      <th>bikeid</th>\n",
       "      <th>tripduration</th>\n",
       "      <th>from_station_name</th>\n",
       "      <th>to_station_name</th>\n",
       "      <th>from_station_id</th>\n",
       "      <th>to_station_id</th>\n",
       "      <th>usertype</th>\n",
       "      <th>gender</th>\n",
       "      <th>birthyear</th>\n",
       "    </tr>\n",
       "  </thead>\n",
       "  <tbody>\n",
       "    <tr>\n",
       "      <th>0</th>\n",
       "      <td>431</td>\n",
       "      <td>10/13/2014 10:31</td>\n",
       "      <td>10/13/2014 10:48</td>\n",
       "      <td>SEA00298</td>\n",
       "      <td>985.935</td>\n",
       "      <td>2nd Ave &amp; Spring St</td>\n",
       "      <td>Occidental Park / Occidental Ave S &amp; S Washing...</td>\n",
       "      <td>CBD-06</td>\n",
       "      <td>PS-04</td>\n",
       "      <td>Member</td>\n",
       "      <td>Male</td>\n",
       "      <td>1960.0</td>\n",
       "    </tr>\n",
       "    <tr>\n",
       "      <th>1</th>\n",
       "      <td>432</td>\n",
       "      <td>10/13/2014 10:32</td>\n",
       "      <td>10/13/2014 10:48</td>\n",
       "      <td>SEA00195</td>\n",
       "      <td>926.375</td>\n",
       "      <td>2nd Ave &amp; Spring St</td>\n",
       "      <td>Occidental Park / Occidental Ave S &amp; S Washing...</td>\n",
       "      <td>CBD-06</td>\n",
       "      <td>PS-04</td>\n",
       "      <td>Member</td>\n",
       "      <td>Male</td>\n",
       "      <td>1970.0</td>\n",
       "    </tr>\n",
       "    <tr>\n",
       "      <th>2</th>\n",
       "      <td>433</td>\n",
       "      <td>10/13/2014 10:33</td>\n",
       "      <td>10/13/2014 10:48</td>\n",
       "      <td>SEA00486</td>\n",
       "      <td>883.831</td>\n",
       "      <td>2nd Ave &amp; Spring St</td>\n",
       "      <td>Occidental Park / Occidental Ave S &amp; S Washing...</td>\n",
       "      <td>CBD-06</td>\n",
       "      <td>PS-04</td>\n",
       "      <td>Member</td>\n",
       "      <td>Female</td>\n",
       "      <td>1988.0</td>\n",
       "    </tr>\n",
       "    <tr>\n",
       "      <th>3</th>\n",
       "      <td>434</td>\n",
       "      <td>10/13/2014 10:34</td>\n",
       "      <td>10/13/2014 10:48</td>\n",
       "      <td>SEA00333</td>\n",
       "      <td>865.937</td>\n",
       "      <td>2nd Ave &amp; Spring St</td>\n",
       "      <td>Occidental Park / Occidental Ave S &amp; S Washing...</td>\n",
       "      <td>CBD-06</td>\n",
       "      <td>PS-04</td>\n",
       "      <td>Member</td>\n",
       "      <td>Female</td>\n",
       "      <td>1977.0</td>\n",
       "    </tr>\n",
       "    <tr>\n",
       "      <th>4</th>\n",
       "      <td>435</td>\n",
       "      <td>10/13/2014 10:34</td>\n",
       "      <td>10/13/2014 10:49</td>\n",
       "      <td>SEA00202</td>\n",
       "      <td>923.923</td>\n",
       "      <td>2nd Ave &amp; Spring St</td>\n",
       "      <td>Occidental Park / Occidental Ave S &amp; S Washing...</td>\n",
       "      <td>CBD-06</td>\n",
       "      <td>PS-04</td>\n",
       "      <td>Member</td>\n",
       "      <td>Male</td>\n",
       "      <td>1971.0</td>\n",
       "    </tr>\n",
       "  </tbody>\n",
       "</table>\n",
       "</div>"
      ]
     },
     "metadata": {},
     "execution_count": 5
    }
   ],
   "metadata": {}
  },
  {
   "cell_type": "markdown",
   "source": [
    "## Q1: What is the average trip duration for a borrowed bicycle?"
   ],
   "metadata": {}
  },
  {
   "cell_type": "code",
   "execution_count": 8,
   "source": [
    "trip_average=df[\"tripduration\"].mean()\n",
    "print(f\"The average-------->>{trip_average}\")"
   ],
   "outputs": [
    {
     "output_type": "stream",
     "name": "stdout",
     "text": [
      "The average-------->>1178.2956753399776\n"
     ]
    }
   ],
   "metadata": {}
  },
  {
   "cell_type": "markdown",
   "source": [
    "## Q2:What’s the most common age of a bicycle-sharer?"
   ],
   "metadata": {}
  },
  {
   "cell_type": "code",
   "execution_count": 63,
   "source": [
    "common_age= 2021-df.birthyear.mode()[0]\n",
    "print(f\" The common age---->{common_age}\")"
   ],
   "outputs": [
    {
     "output_type": "stream",
     "name": "stdout",
     "text": [
      " The common age---->34.0\n"
     ]
    }
   ],
   "metadata": {}
  },
  {
   "cell_type": "markdown",
   "source": [
    "## Q3: Given all the weather data here, find the average precipitation per month, and the median precipitation."
   ],
   "metadata": {}
  },
  {
   "cell_type": "code",
   "execution_count": 69,
   "source": [
    "median_precipitation=df_weather[\"Precipitation_In\"].median()\n",
    "mean_precipitation=df_weather[\"Precipitation_In\"].mean()*30\n",
    "tuple_precipitation= (median_precipitation,mean_precipitation)\n",
    "\n",
    "print(f\"the median of precipitationdn is {median_precipitationd} and the average is {mean_precipitationdn}\")"
   ],
   "outputs": [
    {
     "output_type": "stream",
     "name": "stdout",
     "text": [
      "the median of precipitationdn is 0.0 and the average is 3.1519593613933234\n"
     ]
    }
   ],
   "metadata": {}
  },
  {
   "cell_type": "markdown",
   "source": [
    "## Q4: What’s the average number of bikes at a given bike station?"
   ],
   "metadata": {}
  },
  {
   "cell_type": "code",
   "execution_count": 56,
   "source": [
    "bike_station = round(df_station['install_dockcount'].mean())\n",
    "print(f\"---->> {bike_station}\")"
   ],
   "outputs": [
    {
     "output_type": "stream",
     "name": "stdout",
     "text": [
      "---->> 18\n"
     ]
    }
   ],
   "metadata": {}
  },
  {
   "cell_type": "markdown",
   "source": [
    "##  Q5: When a bike station is modified, is it more likely that it’ll lose bikes or gain bikes? How do you know?"
   ],
   "metadata": {}
  },
  {
   "cell_type": "code",
   "execution_count": 36,
   "source": [
    "# using dropna() method to remove missing values\n",
    "bike_station__modified = df_station[['modification_date','install_dockcount','current_dockcount']].dropna()\n",
    "current_place = bike_station__modified['current_dockcount'].sum()\n",
    "new_place = bike_station__modified['install_dockcount'].sum()\n",
    "result=current_place - new_place\n",
    "# when negative tha mean it will lose bikes\n",
    "print(f\" when negative tha mean it will lose bikes {result}\")"
   ],
   "outputs": [
    {
     "output_type": "stream",
     "name": "stdout",
     "text": [
      " when negative tha mean it will lose bikes -64\n"
     ]
    }
   ],
   "metadata": {}
  },
  {
   "cell_type": "markdown",
   "source": [
    "## Q6: Come up with 3 more questions that can be answered with this data set."
   ],
   "metadata": {}
  },
  {
   "cell_type": "code",
   "execution_count": 40,
   "source": [
    "# The the max 3 temperature ?\n",
    "max_temmp = df_weather.sort_values(\"Max_Temperature_F\",ascending=True).head(3)\n",
    "max_temmp"
   ],
   "outputs": [
    {
     "output_type": "execute_result",
     "data": {
      "text/plain": [
       "           Date  Max_Temperature_F  Mean_Temperature_F  Min_TemperatureF  \\\n",
       "78   12/30/2014                 39                34.0                30   \n",
       "448    1/4/2016                 39                38.0                37   \n",
       "412  11/29/2015                 39                34.0                30   \n",
       "\n",
       "     Max_Dew_Point_F  MeanDew_Point_F  Min_Dewpoint_F  Max_Humidity  \\\n",
       "78                24               17              14            73   \n",
       "448               34               33              32            87   \n",
       "412               34               31              25            93   \n",
       "\n",
       "     Mean_Humidity  Min_Humidity  ...  Mean_Sea_Level_Pressure_In  \\\n",
       "78              51            35  ...                       30.81   \n",
       "448             83            76  ...                       29.77   \n",
       "412             87            79  ...                       30.21   \n",
       "\n",
       "     Min_Sea_Level_Pressure_In  Max_Visibility_Miles  Mean_Visibility_Miles  \\\n",
       "78                       30.75                    10                     10   \n",
       "448                      29.67                    10                      6   \n",
       "412                      30.16                     3                      1   \n",
       "\n",
       "     Min_Visibility_Miles  Max_Wind_Speed_MPH  Mean_Wind_Speed_MPH  \\\n",
       "78                     10                   6                    1   \n",
       "448                     2                   8                    1   \n",
       "412                     0                   7                    2   \n",
       "\n",
       "     Max_Gust_Speed_MPH Precipitation_In  Events  \n",
       "78                    -             0.00     NaN  \n",
       "448                 NaN             0.07    Rain  \n",
       "412                 NaN             0.00     Fog  \n",
       "\n",
       "[3 rows x 21 columns]"
      ],
      "text/html": [
       "<div>\n",
       "<style scoped>\n",
       "    .dataframe tbody tr th:only-of-type {\n",
       "        vertical-align: middle;\n",
       "    }\n",
       "\n",
       "    .dataframe tbody tr th {\n",
       "        vertical-align: top;\n",
       "    }\n",
       "\n",
       "    .dataframe thead th {\n",
       "        text-align: right;\n",
       "    }\n",
       "</style>\n",
       "<table border=\"1\" class=\"dataframe\">\n",
       "  <thead>\n",
       "    <tr style=\"text-align: right;\">\n",
       "      <th></th>\n",
       "      <th>Date</th>\n",
       "      <th>Max_Temperature_F</th>\n",
       "      <th>Mean_Temperature_F</th>\n",
       "      <th>Min_TemperatureF</th>\n",
       "      <th>Max_Dew_Point_F</th>\n",
       "      <th>MeanDew_Point_F</th>\n",
       "      <th>Min_Dewpoint_F</th>\n",
       "      <th>Max_Humidity</th>\n",
       "      <th>Mean_Humidity</th>\n",
       "      <th>Min_Humidity</th>\n",
       "      <th>...</th>\n",
       "      <th>Mean_Sea_Level_Pressure_In</th>\n",
       "      <th>Min_Sea_Level_Pressure_In</th>\n",
       "      <th>Max_Visibility_Miles</th>\n",
       "      <th>Mean_Visibility_Miles</th>\n",
       "      <th>Min_Visibility_Miles</th>\n",
       "      <th>Max_Wind_Speed_MPH</th>\n",
       "      <th>Mean_Wind_Speed_MPH</th>\n",
       "      <th>Max_Gust_Speed_MPH</th>\n",
       "      <th>Precipitation_In</th>\n",
       "      <th>Events</th>\n",
       "    </tr>\n",
       "  </thead>\n",
       "  <tbody>\n",
       "    <tr>\n",
       "      <th>78</th>\n",
       "      <td>12/30/2014</td>\n",
       "      <td>39</td>\n",
       "      <td>34.0</td>\n",
       "      <td>30</td>\n",
       "      <td>24</td>\n",
       "      <td>17</td>\n",
       "      <td>14</td>\n",
       "      <td>73</td>\n",
       "      <td>51</td>\n",
       "      <td>35</td>\n",
       "      <td>...</td>\n",
       "      <td>30.81</td>\n",
       "      <td>30.75</td>\n",
       "      <td>10</td>\n",
       "      <td>10</td>\n",
       "      <td>10</td>\n",
       "      <td>6</td>\n",
       "      <td>1</td>\n",
       "      <td>-</td>\n",
       "      <td>0.00</td>\n",
       "      <td>NaN</td>\n",
       "    </tr>\n",
       "    <tr>\n",
       "      <th>448</th>\n",
       "      <td>1/4/2016</td>\n",
       "      <td>39</td>\n",
       "      <td>38.0</td>\n",
       "      <td>37</td>\n",
       "      <td>34</td>\n",
       "      <td>33</td>\n",
       "      <td>32</td>\n",
       "      <td>87</td>\n",
       "      <td>83</td>\n",
       "      <td>76</td>\n",
       "      <td>...</td>\n",
       "      <td>29.77</td>\n",
       "      <td>29.67</td>\n",
       "      <td>10</td>\n",
       "      <td>6</td>\n",
       "      <td>2</td>\n",
       "      <td>8</td>\n",
       "      <td>1</td>\n",
       "      <td>NaN</td>\n",
       "      <td>0.07</td>\n",
       "      <td>Rain</td>\n",
       "    </tr>\n",
       "    <tr>\n",
       "      <th>412</th>\n",
       "      <td>11/29/2015</td>\n",
       "      <td>39</td>\n",
       "      <td>34.0</td>\n",
       "      <td>30</td>\n",
       "      <td>34</td>\n",
       "      <td>31</td>\n",
       "      <td>25</td>\n",
       "      <td>93</td>\n",
       "      <td>87</td>\n",
       "      <td>79</td>\n",
       "      <td>...</td>\n",
       "      <td>30.21</td>\n",
       "      <td>30.16</td>\n",
       "      <td>3</td>\n",
       "      <td>1</td>\n",
       "      <td>0</td>\n",
       "      <td>7</td>\n",
       "      <td>2</td>\n",
       "      <td>NaN</td>\n",
       "      <td>0.00</td>\n",
       "      <td>Fog</td>\n",
       "    </tr>\n",
       "  </tbody>\n",
       "</table>\n",
       "<p>3 rows × 21 columns</p>\n",
       "</div>"
      ]
     },
     "metadata": {},
     "execution_count": 40
    }
   ],
   "metadata": {}
  },
  {
   "cell_type": "code",
   "execution_count": 41,
   "source": [
    "# what is the  three minimum  temperature ?\n",
    "min_temmp = df_weather.sort_values(\"Min_TemperatureF\",ascending=True).head(3)\n",
    "min_temmp"
   ],
   "outputs": [
    {
     "output_type": "execute_result",
     "data": {
      "text/plain": [
       "           Date  Max_Temperature_F  Mean_Temperature_F  Min_TemperatureF  \\\n",
       "446    1/2/2016                 44                34.0                23   \n",
       "445    1/1/2016                 44                34.0                25   \n",
       "411  11/28/2015                 46                36.0                26   \n",
       "\n",
       "     Max_Dew_Point_F  MeanDew_Point_F  Min_Dewpoint_F  Max_Humidity  \\\n",
       "446               30               23              13            96   \n",
       "445               30               25              21            92   \n",
       "411               31               26              21            86   \n",
       "\n",
       "     Mean_Humidity  Min_Humidity  ...  Mean_Sea_Level_Pressure_In  \\\n",
       "446             73            33  ...                       30.19   \n",
       "445             76            43  ...                       30.38   \n",
       "411             75            50  ...                       30.29   \n",
       "\n",
       "     Min_Sea_Level_Pressure_In  Max_Visibility_Miles  Mean_Visibility_Miles  \\\n",
       "446                      30.11                    10                      9   \n",
       "445                      30.27                    10                     10   \n",
       "411                      30.22                    10                      8   \n",
       "\n",
       "     Min_Visibility_Miles  Max_Wind_Speed_MPH  Mean_Wind_Speed_MPH  \\\n",
       "446                     6                   8                    2   \n",
       "445                     6                   5                    1   \n",
       "411                     2                   6                    1   \n",
       "\n",
       "     Max_Gust_Speed_MPH Precipitation_In  Events  \n",
       "446                 NaN              0.0     NaN  \n",
       "445                 NaN              0.0     NaN  \n",
       "411                 NaN              0.0    Snow  \n",
       "\n",
       "[3 rows x 21 columns]"
      ],
      "text/html": [
       "<div>\n",
       "<style scoped>\n",
       "    .dataframe tbody tr th:only-of-type {\n",
       "        vertical-align: middle;\n",
       "    }\n",
       "\n",
       "    .dataframe tbody tr th {\n",
       "        vertical-align: top;\n",
       "    }\n",
       "\n",
       "    .dataframe thead th {\n",
       "        text-align: right;\n",
       "    }\n",
       "</style>\n",
       "<table border=\"1\" class=\"dataframe\">\n",
       "  <thead>\n",
       "    <tr style=\"text-align: right;\">\n",
       "      <th></th>\n",
       "      <th>Date</th>\n",
       "      <th>Max_Temperature_F</th>\n",
       "      <th>Mean_Temperature_F</th>\n",
       "      <th>Min_TemperatureF</th>\n",
       "      <th>Max_Dew_Point_F</th>\n",
       "      <th>MeanDew_Point_F</th>\n",
       "      <th>Min_Dewpoint_F</th>\n",
       "      <th>Max_Humidity</th>\n",
       "      <th>Mean_Humidity</th>\n",
       "      <th>Min_Humidity</th>\n",
       "      <th>...</th>\n",
       "      <th>Mean_Sea_Level_Pressure_In</th>\n",
       "      <th>Min_Sea_Level_Pressure_In</th>\n",
       "      <th>Max_Visibility_Miles</th>\n",
       "      <th>Mean_Visibility_Miles</th>\n",
       "      <th>Min_Visibility_Miles</th>\n",
       "      <th>Max_Wind_Speed_MPH</th>\n",
       "      <th>Mean_Wind_Speed_MPH</th>\n",
       "      <th>Max_Gust_Speed_MPH</th>\n",
       "      <th>Precipitation_In</th>\n",
       "      <th>Events</th>\n",
       "    </tr>\n",
       "  </thead>\n",
       "  <tbody>\n",
       "    <tr>\n",
       "      <th>446</th>\n",
       "      <td>1/2/2016</td>\n",
       "      <td>44</td>\n",
       "      <td>34.0</td>\n",
       "      <td>23</td>\n",
       "      <td>30</td>\n",
       "      <td>23</td>\n",
       "      <td>13</td>\n",
       "      <td>96</td>\n",
       "      <td>73</td>\n",
       "      <td>33</td>\n",
       "      <td>...</td>\n",
       "      <td>30.19</td>\n",
       "      <td>30.11</td>\n",
       "      <td>10</td>\n",
       "      <td>9</td>\n",
       "      <td>6</td>\n",
       "      <td>8</td>\n",
       "      <td>2</td>\n",
       "      <td>NaN</td>\n",
       "      <td>0.0</td>\n",
       "      <td>NaN</td>\n",
       "    </tr>\n",
       "    <tr>\n",
       "      <th>445</th>\n",
       "      <td>1/1/2016</td>\n",
       "      <td>44</td>\n",
       "      <td>34.0</td>\n",
       "      <td>25</td>\n",
       "      <td>30</td>\n",
       "      <td>25</td>\n",
       "      <td>21</td>\n",
       "      <td>92</td>\n",
       "      <td>76</td>\n",
       "      <td>43</td>\n",
       "      <td>...</td>\n",
       "      <td>30.38</td>\n",
       "      <td>30.27</td>\n",
       "      <td>10</td>\n",
       "      <td>10</td>\n",
       "      <td>6</td>\n",
       "      <td>5</td>\n",
       "      <td>1</td>\n",
       "      <td>NaN</td>\n",
       "      <td>0.0</td>\n",
       "      <td>NaN</td>\n",
       "    </tr>\n",
       "    <tr>\n",
       "      <th>411</th>\n",
       "      <td>11/28/2015</td>\n",
       "      <td>46</td>\n",
       "      <td>36.0</td>\n",
       "      <td>26</td>\n",
       "      <td>31</td>\n",
       "      <td>26</td>\n",
       "      <td>21</td>\n",
       "      <td>86</td>\n",
       "      <td>75</td>\n",
       "      <td>50</td>\n",
       "      <td>...</td>\n",
       "      <td>30.29</td>\n",
       "      <td>30.22</td>\n",
       "      <td>10</td>\n",
       "      <td>8</td>\n",
       "      <td>2</td>\n",
       "      <td>6</td>\n",
       "      <td>1</td>\n",
       "      <td>NaN</td>\n",
       "      <td>0.0</td>\n",
       "      <td>Snow</td>\n",
       "    </tr>\n",
       "  </tbody>\n",
       "</table>\n",
       "<p>3 rows × 21 columns</p>\n",
       "</div>"
      ]
     },
     "metadata": {},
     "execution_count": 41
    }
   ],
   "metadata": {}
  },
  {
   "cell_type": "code",
   "execution_count": 54,
   "source": [
    "## What is the median trip duration for a borrowed bicycle?¶\n",
    "trip_duration=df['tripduration'].median()\n",
    "trip_duration"
   ],
   "outputs": [
    {
     "output_type": "execute_result",
     "data": {
      "text/plain": [
       "624.842"
      ]
     },
     "metadata": {},
     "execution_count": 54
    }
   ],
   "metadata": {}
  },
  {
   "cell_type": "markdown",
   "source": [
    "## Tests"
   ],
   "metadata": {}
  },
  {
   "cell_type": "code",
   "execution_count": 71,
   "source": [
    "\n",
    "def test():\n",
    "\n",
    "    def assert_equal(actual,expected):\n",
    "        assert actual == expected, f\"Expected {expected} but got {actual}\"\n",
    "\n",
    "    assert_equal(trip_average, 1178.2956753399776)\n",
    "    assert_equal(common_age, 34.0)\n",
    "    assert_equal(tuple_precipitation, ( 0.0,3.1519593613933234))\n",
    "    assert_equal(bike_station, 18)\n",
    "    assert_equal(result, -64)\n",
    "    assert_equal(max_temmp.iloc[0].Max_Temperature_F, 39)\n",
    "    assert_equal(min_temmp.iloc[0].Min_TemperatureF\t,23)\n",
    "    assert_equal(trip_duration, 624.842)\n",
    "\n",
    "    print(\"Success!!!\")\n",
    "\n",
    "test()"
   ],
   "outputs": [
    {
     "output_type": "stream",
     "name": "stdout",
     "text": [
      "Success!!!\n"
     ]
    }
   ],
   "metadata": {}
  }
 ],
 "metadata": {
  "orig_nbformat": 4,
  "language_info": {
   "name": "python",
   "version": "3.9.6",
   "mimetype": "text/x-python",
   "codemirror_mode": {
    "name": "ipython",
    "version": 3
   },
   "pygments_lexer": "ipython3",
   "nbconvert_exporter": "python",
   "file_extension": ".py"
  },
  "kernelspec": {
   "name": "python3",
   "display_name": "Python 3.9.6 64-bit ('.venv': poetry)"
  },
  "interpreter": {
   "hash": "0821b87a6128483be9d3d92345bcd096a5ba30f3df0a34600d09a38ebbb47046"
  }
 },
 "nbformat": 4,
 "nbformat_minor": 2
}